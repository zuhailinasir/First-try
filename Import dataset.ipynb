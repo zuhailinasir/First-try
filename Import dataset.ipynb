{
 "cells": [
  {
   "cell_type": "code",
   "execution_count": 1,
   "metadata": {},
   "outputs": [],
   "source": [
    "import numpy as np"
   ]
  },
  {
   "cell_type": "code",
   "execution_count": 8,
   "metadata": {},
   "outputs": [],
   "source": [
    "import pandas as pd\n",
    "import matplotlib.pyplot as plt\n",
    "import matplotlib.cm as cm\n",
    "from scipy.io import loadmat"
   ]
  },
  {
   "cell_type": "code",
   "execution_count": 10,
   "metadata": {},
   "outputs": [],
   "source": [
    "%matplotlib inline"
   ]
  },
  {
   "cell_type": "code",
   "execution_count": 11,
   "metadata": {},
   "outputs": [],
   "source": [
    "data=pd.read_excel(r\"C:\\Users\\Zuhaili\\Desktop\\SVM.test.xlsx\")"
   ]
  },
  {
   "cell_type": "code",
   "execution_count": 12,
   "metadata": {},
   "outputs": [
    {
     "data": {
      "text/html": [
       "<div>\n",
       "<style scoped>\n",
       "    .dataframe tbody tr th:only-of-type {\n",
       "        vertical-align: middle;\n",
       "    }\n",
       "\n",
       "    .dataframe tbody tr th {\n",
       "        vertical-align: top;\n",
       "    }\n",
       "\n",
       "    .dataframe thead th {\n",
       "        text-align: right;\n",
       "    }\n",
       "</style>\n",
       "<table border=\"1\" class=\"dataframe\">\n",
       "  <thead>\n",
       "    <tr style=\"text-align: right;\">\n",
       "      <th></th>\n",
       "      <th>X</th>\n",
       "      <th>BIL</th>\n",
       "      <th>TARIKH.CERAPAN</th>\n",
       "      <th>TARIKH.CERAPAN.1</th>\n",
       "      <th>AltS</th>\n",
       "      <th>AltM</th>\n",
       "      <th>ARCV</th>\n",
       "      <th>AzS</th>\n",
       "      <th>AzM</th>\n",
       "      <th>X.Az</th>\n",
       "      <th>Elongation</th>\n",
       "      <th>Umur</th>\n",
       "      <th>W</th>\n",
       "      <th>Visibility</th>\n",
       "      <th>EV-test</th>\n",
       "      <th>EA-test</th>\n",
       "      <th>Maunder</th>\n",
       "      <th>Indian</th>\n",
       "      <th>Bruin</th>\n",
       "    </tr>\n",
       "  </thead>\n",
       "  <tbody>\n",
       "    <tr>\n",
       "      <td>0</td>\n",
       "      <td>1</td>\n",
       "      <td>1</td>\n",
       "      <td>06.03.2000</td>\n",
       "      <td>29 Zulkaedah 1420</td>\n",
       "      <td>-0.348</td>\n",
       "      <td>2.544</td>\n",
       "      <td>2.892</td>\n",
       "      <td>264.591</td>\n",
       "      <td>262.177</td>\n",
       "      <td>-2.414</td>\n",
       "      <td>4.046</td>\n",
       "      <td>6.16</td>\n",
       "      <td>0.04</td>\n",
       "      <td>N</td>\n",
       "      <td>-0.026306</td>\n",
       "      <td>-0.051207</td>\n",
       "      <td>10.821026</td>\n",
       "      <td>10.284702</td>\n",
       "      <td>10.299138</td>\n",
       "    </tr>\n",
       "    <tr>\n",
       "      <td>1</td>\n",
       "      <td>2</td>\n",
       "      <td>2</td>\n",
       "      <td>07.03.2000</td>\n",
       "      <td>1 Zulhijah 1420</td>\n",
       "      <td>-0.241</td>\n",
       "      <td>14.189</td>\n",
       "      <td>14.430</td>\n",
       "      <td>264.975</td>\n",
       "      <td>266.158</td>\n",
       "      <td>1.183</td>\n",
       "      <td>15.001</td>\n",
       "      <td>30.15</td>\n",
       "      <td>0.53</td>\n",
       "      <td>N</td>\n",
       "      <td>-0.000422</td>\n",
       "      <td>-0.014668</td>\n",
       "      <td>10.926855</td>\n",
       "      <td>10.344518</td>\n",
       "      <td>10.259635</td>\n",
       "    </tr>\n",
       "    <tr>\n",
       "      <td>2</td>\n",
       "      <td>3</td>\n",
       "      <td>3</td>\n",
       "      <td>05.04.2000</td>\n",
       "      <td>30 Zulhijah 1420</td>\n",
       "      <td>-0.335</td>\n",
       "      <td>8.570</td>\n",
       "      <td>8.905</td>\n",
       "      <td>276.333</td>\n",
       "      <td>274.766</td>\n",
       "      <td>-1.567</td>\n",
       "      <td>9.539</td>\n",
       "      <td>17.13</td>\n",
       "      <td>0.22</td>\n",
       "      <td>N</td>\n",
       "      <td>-0.008666</td>\n",
       "      <td>-0.030383</td>\n",
       "      <td>10.897095</td>\n",
       "      <td>10.329014</td>\n",
       "      <td>10.281715</td>\n",
       "    </tr>\n",
       "    <tr>\n",
       "      <td>3</td>\n",
       "      <td>4</td>\n",
       "      <td>4</td>\n",
       "      <td>06.04.2000</td>\n",
       "      <td>1 Muharam 1421</td>\n",
       "      <td>-14.839</td>\n",
       "      <td>7.591</td>\n",
       "      <td>22.430</td>\n",
       "      <td>277.566</td>\n",
       "      <td>279.833</td>\n",
       "      <td>2.267</td>\n",
       "      <td>22.432</td>\n",
       "      <td>42.07</td>\n",
       "      <td>1.22</td>\n",
       "      <td>Y</td>\n",
       "      <td>-0.021614</td>\n",
       "      <td>0.207563</td>\n",
       "      <td>10.835257</td>\n",
       "      <td>10.293391</td>\n",
       "      <td>10.299201</td>\n",
       "    </tr>\n",
       "    <tr>\n",
       "      <td>4</td>\n",
       "      <td>5</td>\n",
       "      <td>5</td>\n",
       "      <td>04.05.2000</td>\n",
       "      <td>29 Muharam 1421</td>\n",
       "      <td>-0.484</td>\n",
       "      <td>3.147</td>\n",
       "      <td>3.631</td>\n",
       "      <td>286.194</td>\n",
       "      <td>282.623</td>\n",
       "      <td>-3.571</td>\n",
       "      <td>5.394</td>\n",
       "      <td>7.08</td>\n",
       "      <td>0.07</td>\n",
       "      <td>N</td>\n",
       "      <td>-0.011471</td>\n",
       "      <td>-0.034704</td>\n",
       "      <td>10.693930</td>\n",
       "      <td>10.201683</td>\n",
       "      <td>10.253379</td>\n",
       "    </tr>\n",
       "  </tbody>\n",
       "</table>\n",
       "</div>"
      ],
      "text/plain": [
       "   X  BIL TARIKH.CERAPAN   TARIKH.CERAPAN.1    AltS    AltM    ARCV      AzS  \\\n",
       "0  1    1     06.03.2000  29 Zulkaedah 1420  -0.348   2.544   2.892  264.591   \n",
       "1  2    2     07.03.2000    1 Zulhijah 1420  -0.241  14.189  14.430  264.975   \n",
       "2  3    3     05.04.2000   30 Zulhijah 1420  -0.335   8.570   8.905  276.333   \n",
       "3  4    4     06.04.2000     1 Muharam 1421 -14.839   7.591  22.430  277.566   \n",
       "4  5    5     04.05.2000    29 Muharam 1421  -0.484   3.147   3.631  286.194   \n",
       "\n",
       "       AzM   X.Az  Elongation   Umur     W Visibility   EV-test   EA-test  \\\n",
       "0  262.177 -2.414       4.046   6.16  0.04          N -0.026306 -0.051207   \n",
       "1  266.158  1.183      15.001  30.15  0.53          N -0.000422 -0.014668   \n",
       "2  274.766 -1.567       9.539  17.13  0.22          N -0.008666 -0.030383   \n",
       "3  279.833  2.267      22.432  42.07  1.22          Y -0.021614  0.207563   \n",
       "4  282.623 -3.571       5.394   7.08  0.07          N -0.011471 -0.034704   \n",
       "\n",
       "     Maunder     Indian      Bruin  \n",
       "0  10.821026  10.284702  10.299138  \n",
       "1  10.926855  10.344518  10.259635  \n",
       "2  10.897095  10.329014  10.281715  \n",
       "3  10.835257  10.293391  10.299201  \n",
       "4  10.693930  10.201683  10.253379  "
      ]
     },
     "execution_count": 12,
     "metadata": {},
     "output_type": "execute_result"
    }
   ],
   "source": [
    "data.head()"
   ]
  },
  {
   "cell_type": "code",
   "execution_count": 13,
   "metadata": {},
   "outputs": [],
   "source": [
    "X_3 = data['EA-test']\n",
    "y_3 = data['AltM']"
   ]
  },
  {
   "cell_type": "code",
   "execution_count": 16,
   "metadata": {},
   "outputs": [
    {
     "data": {
      "text/plain": [
       "0       2.544\n",
       "1      14.189\n",
       "2       8.570\n",
       "3       7.591\n",
       "4       3.147\n",
       "        ...  \n",
       "249     2.757\n",
       "250     5.159\n",
       "251     8.065\n",
       "252     2.379\n",
       "253     3.382\n",
       "Name: AltM, Length: 254, dtype: float64"
      ]
     },
     "execution_count": 16,
     "metadata": {},
     "output_type": "execute_result"
    }
   ],
   "source": [
    "y_3"
   ]
  },
  {
   "cell_type": "code",
   "execution_count": null,
   "metadata": {},
   "outputs": [],
   "source": []
  }
 ],
 "metadata": {
  "kernelspec": {
   "display_name": "Python 3",
   "language": "python",
   "name": "python3"
  },
  "language_info": {
   "codemirror_mode": {
    "name": "ipython",
    "version": 3
   },
   "file_extension": ".py",
   "mimetype": "text/x-python",
   "name": "python",
   "nbconvert_exporter": "python",
   "pygments_lexer": "ipython3",
   "version": "3.7.4"
  }
 },
 "nbformat": 4,
 "nbformat_minor": 2
}
